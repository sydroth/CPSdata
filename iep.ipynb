{
 "cells": [
  {
   "cell_type": "code",
   "execution_count": 6,
   "metadata": {},
   "outputs": [],
   "source": [
    "import requests, json, numpy as np, pandas as pd\n",
    "import sodapy"
   ]
  },
  {
   "cell_type": "code",
   "execution_count": 7,
   "metadata": {},
   "outputs": [],
   "source": [
    "data_2012 = requests.get('https://data.cityofchicago.org/resource/9xs2-f89t').json()\n",
    "df_2012 = pd.DataFrame.from_dict(data_2012)"
   ]
  },
  {
   "cell_type": "code",
   "execution_count": 11,
   "metadata": {},
   "outputs": [],
   "source": [
    "df = df_2012.filter(['school_id', 'name_of_school', 'individualized_education_program_compliance_rate_', 'average_student_attendance', 'rate_of_misconducts_per_100_students_', 'graduation_rate_', 'college_enrollment_rate', 'freshman_on_track_rate'])\n"
   ]
  },
  {
   "cell_type": "code",
   "execution_count": 19,
   "metadata": {},
   "outputs": [
    {
     "data": {
      "text/plain": [
       "100     351\n",
       "98.6     14\n",
       "98.9     10\n",
       "99.1     10\n",
       "98.4      8\n",
       "       ... \n",
       "85.4      1\n",
       "92        1\n",
       "90.5      1\n",
       "93.9      1\n",
       "93.5      1\n",
       "Name: individualized_education_program_compliance_rate_, Length: 69, dtype: int64"
      ]
     },
     "execution_count": 19,
     "metadata": {},
     "output_type": "execute_result"
    }
   ],
   "source": [
    "df['individualized_education_program_compliance_rate_'].value_counts(dropna=False)"
   ]
  },
  {
   "cell_type": "code",
   "execution_count": null,
   "metadata": {},
   "outputs": [],
   "source": []
  }
 ],
 "metadata": {
  "kernelspec": {
   "display_name": "Python 3",
   "language": "python",
   "name": "python3"
  },
  "language_info": {
   "codemirror_mode": {
    "name": "ipython",
    "version": 3
   },
   "file_extension": ".py",
   "mimetype": "text/x-python",
   "name": "python",
   "nbconvert_exporter": "python",
   "pygments_lexer": "ipython3",
   "version": "3.6.9"
  }
 },
 "nbformat": 4,
 "nbformat_minor": 4
}
